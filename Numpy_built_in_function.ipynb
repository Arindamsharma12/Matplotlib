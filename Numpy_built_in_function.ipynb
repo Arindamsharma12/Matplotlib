{
 "cells": [
  {
   "cell_type": "markdown",
   "id": "afcad27f-b658-4012-b6b8-40c342a6f7f6",
   "metadata": {},
   "source": [
    "<h1>NUMPY</h1>"
   ]
  },
  {
   "cell_type": "code",
   "execution_count": 1,
   "id": "aa7eed2c-a73d-477a-9cf8-fe5e9cfe7240",
   "metadata": {},
   "outputs": [],
   "source": [
    "import numpy as np"
   ]
  },
  {
   "cell_type": "markdown",
   "id": "286a0b00-4e39-4ac0-ab2d-72d94aeda18a",
   "metadata": {},
   "source": [
    "<ol>\n",
    "    <li><b>np.array(): </b> Create a new n dimension array</li>\n",
    "    <li><b>np.arange(): </b> Similar to range() in python i.e, return sequence of elements</li>\n",
    "    <li><b>np.ndim(): </b> Return the dimension of an array</li>\n",
    "    <li><b>np.sum(): </b> Return the sum of all elements of array</li>\n",
    "    <li><b>np.mean(): </b> Return mean of all elements of array</li>\n",
    "    <li><b>np.dtype(): </b> Returns type of data in array</li>\n",
    "    <li><b>np.concatenate(): </b> join two arrays</li>\n",
    "    <li><b>np.shape(): </b> Returns number of elements in array</li>\n",
    "    <li><b>np.std(): </b> Returns standard deviation number of elements in array</li>\n",
    "    <li><b>np.var(): </b> Returns variance of number of elements in array</li>\n",
    "\n",
    "</ol>"
   ]
  },
  {
   "cell_type": "code",
   "execution_count": 8,
   "id": "26548164-a2ee-4993-97bb-43a120816158",
   "metadata": {},
   "outputs": [
    {
     "name": "stdout",
     "output_type": "stream",
     "text": [
      "[1 2 3 4]\n",
      "1\n",
      "4\n",
      "int32\n",
      "<class 'numpy.ndarray'>\n",
      "10\n"
     ]
    }
   ],
   "source": [
    "# Creating 1-D array using numpy\n",
    "n1 = np.array([1,2,3,4])\n",
    "print(n1)\n",
    "print(n1.ndim)\n",
    "print(n1.size)\n",
    "print(n1.dtype)\n",
    "print(type(n1))\n",
    "print(n1.sum())"
   ]
  },
  {
   "cell_type": "code",
   "execution_count": 16,
   "id": "2381e5fd-d432-4f42-b939-3a8f0568fac0",
   "metadata": {},
   "outputs": [
    {
     "name": "stdout",
     "output_type": "stream",
     "text": [
      "[[1 2 3]\n",
      " [4 5 6]\n",
      " [7 8 9]]\n",
      "Dimension: 2\n",
      "Size of n2 9\n"
     ]
    }
   ],
   "source": [
    "# Creating 2-D array\n",
    "n2 = np.array([[1,2,3],[4,5,6],[7,8,9]])\n",
    "print(n2)\n",
    "print(\"Dimension:\",n2.ndim)\n",
    "print(\"Size of n2\",n2.size)"
   ]
  },
  {
   "cell_type": "code",
   "execution_count": 21,
   "id": "cd74ff33-8dd8-4dd3-af43-b33006cf4904",
   "metadata": {},
   "outputs": [
    {
     "name": "stdout",
     "output_type": "stream",
     "text": [
      "[[[1 2]\n",
      "  [3 4]]\n",
      "\n",
      " [[5 6]\n",
      "  [7 8]]]\n",
      "Dimension: 3\n"
     ]
    }
   ],
   "source": [
    "# Creating 3-D array\n",
    "n3 = np.array([[[1,2],[3,4]],[[5,6],[7,8]]])\n",
    "print(n3)\n",
    "print(\"Dimension:\",n3.ndim)"
   ]
  },
  {
   "cell_type": "code",
   "execution_count": 24,
   "id": "1786029a-6503-41ef-b423-df4d55419026",
   "metadata": {},
   "outputs": [
    {
     "name": "stdout",
     "output_type": "stream",
     "text": [
      "[ 0  1  2  3  4  5  6  7  8  9 10]\n"
     ]
    }
   ],
   "source": [
    "# Concatenate two numpy arrays\n",
    "num1 = np.arange(5)\n",
    "num2 = np.arange(5,11)\n",
    "num3 = np.concatenate((num1,num2)) # while concatenation make su\n",
    "print(num3)"
   ]
  },
  {
   "cell_type": "code",
   "execution_count": null,
   "id": "0d03df39-278b-4012-83b5-030065303966",
   "metadata": {},
   "outputs": [],
   "source": []
  }
 ],
 "metadata": {
  "kernelspec": {
   "display_name": "Python 3 (ipykernel)",
   "language": "python",
   "name": "python3"
  },
  "language_info": {
   "codemirror_mode": {
    "name": "ipython",
    "version": 3
   },
   "file_extension": ".py",
   "mimetype": "text/x-python",
   "name": "python",
   "nbconvert_exporter": "python",
   "pygments_lexer": "ipython3",
   "version": "3.11.7"
  }
 },
 "nbformat": 4,
 "nbformat_minor": 5
}
